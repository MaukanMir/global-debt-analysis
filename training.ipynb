{
 "cells": [
  {
   "cell_type": "code",
   "execution_count": 1,
   "metadata": {},
   "outputs": [],
   "source": [
    "import pandas as pd\n",
    "import numpy as np\n",
    "import seaborn as sns\n",
    "import matplotlib.pyplot as plt"
   ]
  },
  {
   "cell_type": "code",
   "execution_count": 41,
   "metadata": {},
   "outputs": [],
   "source": [
    "def read_all_file_paths(list_of_files:list)->list:\n",
    "  \"\"\"\n",
    "  Read a list of all of the file paths\n",
    "\n",
    "  Args:\n",
    "      list_of_files:List\n",
    "\n",
    "  Returns:\n",
    "      List\n",
    "  \"\"\"\n",
    "  \n",
    "  list_of_dfs = []\n",
    "  \n",
    "  for file in list_of_files:\n",
    "    df = pd.read_csv(file + \".csv\", encoding = \"ISO-8859-1\")\n",
    "    list_of_dfs.append(df)\n",
    "  \n",
    "  return list_of_dfs"
   ]
  },
  {
   "cell_type": "code",
   "execution_count": 42,
   "metadata": {},
   "outputs": [],
   "source": [
    "file_paths = [\n",
    "  'central_government_debt', \n",
    "  \"household_debt\",\n",
    "  \"general_government_debt\",\n",
    "  \"non-financial_corporate_debt\",\n",
    "  \"private_debt\"\n",
    "  ]\n",
    "\n",
    "centeral_government, household_debt, general_government_debt, non_financial_debt, private_debt = read_all_file_paths(file_paths)"
   ]
  },
  {
   "cell_type": "code",
   "execution_count": null,
   "metadata": {},
   "outputs": [],
   "source": []
  }
 ],
 "metadata": {
  "kernelspec": {
   "display_name": "Python 3",
   "language": "python",
   "name": "python3"
  },
  "language_info": {
   "codemirror_mode": {
    "name": "ipython",
    "version": 3
   },
   "file_extension": ".py",
   "mimetype": "text/x-python",
   "name": "python",
   "nbconvert_exporter": "python",
   "pygments_lexer": "ipython3",
   "version": "3.11.8"
  }
 },
 "nbformat": 4,
 "nbformat_minor": 2
}
